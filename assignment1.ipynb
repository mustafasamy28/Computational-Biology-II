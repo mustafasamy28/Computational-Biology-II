{
 "cells": [
  {
   "cell_type": "code",
   "execution_count": 1,
   "id": "547ff8b6",
   "metadata": {},
   "outputs": [],
   "source": [
    "import cobra"
   ]
  },
  {
   "cell_type": "code",
   "execution_count": 2,
   "id": "dec857cf",
   "metadata": {},
   "outputs": [],
   "source": [
    "from cobra import Model,Reaction,Metabolite"
   ]
  },
  {
   "cell_type": "code",
   "execution_count": 3,
   "id": "d691557e",
   "metadata": {},
   "outputs": [],
   "source": [
    "result=Model('example')\n"
   ]
  },
  {
   "cell_type": "markdown",
   "id": "3e1eae63",
   "metadata": {},
   "source": [
    "#### V1 : A=====> B"
   ]
  },
  {
   "cell_type": "code",
   "execution_count": 4,
   "id": "35d2f176",
   "metadata": {},
   "outputs": [],
   "source": [
    "v1=Reaction('v1')\n",
    "v1.name='v1'\n",
    "v1.lower_bound=0\n",
    "v1.upper_bound=1000"
   ]
  },
  {
   "cell_type": "markdown",
   "id": "ec5946db",
   "metadata": {},
   "source": [
    "#### V2 : B=====> C"
   ]
  },
  {
   "cell_type": "code",
   "execution_count": 5,
   "id": "6da16fd4",
   "metadata": {},
   "outputs": [],
   "source": [
    "v2=Reaction('v2')\n",
    "v2.name='v2'\n",
    "v2.lower_bound=0\n",
    "v2.upper_bound=1000"
   ]
  },
  {
   "cell_type": "markdown",
   "id": "d7e51cd3",
   "metadata": {},
   "source": [
    "#### V0 : =====> A"
   ]
  },
  {
   "cell_type": "code",
   "execution_count": 6,
   "id": "d5803abd",
   "metadata": {},
   "outputs": [],
   "source": [
    "M=Reaction('M')\n",
    "M.name='M'\n",
    "M.lower_bound=0\n",
    "M.upper_bound=1000"
   ]
  },
  {
   "cell_type": "markdown",
   "id": "615d09d1",
   "metadata": {},
   "source": [
    "#### M : C=====> "
   ]
  },
  {
   "cell_type": "code",
   "execution_count": 7,
   "id": "6f4b47c9",
   "metadata": {},
   "outputs": [],
   "source": [
    "v0=Reaction('v0')\n",
    "v0.name='v0'\n",
    "v0.lower_bound=1\n",
    "v0.upper_bound=1"
   ]
  },
  {
   "cell_type": "markdown",
   "id": "fe39b006",
   "metadata": {},
   "source": [
    "#### ATP_R : A=====> ATP"
   ]
  },
  {
   "cell_type": "code",
   "execution_count": 8,
   "id": "25bd5bc6",
   "metadata": {},
   "outputs": [],
   "source": [
    "ATP_R=Reaction('ATP_R')\n",
    "ATP_R.name='ATP_R'\n",
    "ATP_R.lower_bound=0\n",
    "ATP_R.upper_bound=1000"
   ]
  },
  {
   "cell_type": "markdown",
   "id": "d9f4a562",
   "metadata": {},
   "source": [
    "#### V3 : ATP=====>"
   ]
  },
  {
   "cell_type": "code",
   "execution_count": 9,
   "id": "3e731cbc",
   "metadata": {},
   "outputs": [],
   "source": [
    "v3=Reaction('v3')\n",
    "v3.name='v3'\n",
    "v3.lower_bound=.9\n",
    "v3.upper_bound=.9"
   ]
  },
  {
   "cell_type": "code",
   "execution_count": 10,
   "id": "e17deabf",
   "metadata": {},
   "outputs": [],
   "source": [
    "v4=Reaction('v4')\n",
    "v4.name='v4'\n",
    "v4.lower_bound=0\n",
    "v4.upper_bound=1000"
   ]
  },
  {
   "cell_type": "code",
   "execution_count": 11,
   "id": "cff22f73",
   "metadata": {},
   "outputs": [],
   "source": [
    "A= Metabolite('A',compartment='c')\n",
    "B=Metabolite('B',compartment='c')\n",
    "C= Metabolite('C',compartment='c')\n",
    "ATP=Metabolite('ATP',compartment='c')"
   ]
  },
  {
   "cell_type": "markdown",
   "id": "868651db",
   "metadata": {},
   "source": [
    "#### Add metabolites in reaction V1"
   ]
  },
  {
   "cell_type": "code",
   "execution_count": 12,
   "id": "05e1cd95",
   "metadata": {},
   "outputs": [],
   "source": [
    "v1.add_metabolites({A:-1,B:1})"
   ]
  },
  {
   "cell_type": "markdown",
   "id": "6d8244a6",
   "metadata": {},
   "source": [
    "#### Add metabolites in reaction V2"
   ]
  },
  {
   "cell_type": "code",
   "execution_count": 13,
   "id": "20f930ab",
   "metadata": {},
   "outputs": [],
   "source": [
    "v2.add_metabolites({B:-1,C:1})\n"
   ]
  },
  {
   "cell_type": "markdown",
   "id": "fe522009",
   "metadata": {},
   "source": [
    "#### Add metabolites in reaction V0"
   ]
  },
  {
   "cell_type": "code",
   "execution_count": 14,
   "id": "51fc4c33",
   "metadata": {},
   "outputs": [],
   "source": [
    "v0.add_metabolites({A:1})\n"
   ]
  },
  {
   "cell_type": "markdown",
   "id": "68c302d6",
   "metadata": {},
   "source": [
    "#### Add metabolites in reaction M"
   ]
  },
  {
   "cell_type": "code",
   "execution_count": 15,
   "id": "8e4fe882",
   "metadata": {},
   "outputs": [],
   "source": [
    "M.add_metabolites({C:-1})\n"
   ]
  },
  {
   "cell_type": "markdown",
   "id": "f8707a6c",
   "metadata": {},
   "source": [
    "#### Add metabolites in reaction ATP_R "
   ]
  },
  {
   "cell_type": "code",
   "execution_count": 16,
   "id": "c63e40b5",
   "metadata": {},
   "outputs": [],
   "source": [
    "v3.add_metabolites({A:-1,ATP:1})\n"
   ]
  },
  {
   "cell_type": "markdown",
   "id": "16acea38",
   "metadata": {},
   "source": [
    "#### Add metabolites in reaction V3"
   ]
  },
  {
   "cell_type": "code",
   "execution_count": 17,
   "id": "f5816232",
   "metadata": {},
   "outputs": [],
   "source": [
    "v4.add_metabolites({ATP:-1})"
   ]
  },
  {
   "cell_type": "code",
   "execution_count": 18,
   "id": "c1d3ea85",
   "metadata": {},
   "outputs": [],
   "source": [
    "result.add_reactions([v0,v1,v2,v3,v4,M])"
   ]
  },
  {
   "cell_type": "markdown",
   "id": "9b3cc1e4",
   "metadata": {},
   "source": [
    "#### Add reactions in result"
   ]
  },
  {
   "cell_type": "code",
   "execution_count": 19,
   "id": "4b7739e1",
   "metadata": {},
   "outputs": [],
   "source": [
    "result.objective = 'M'"
   ]
  },
  {
   "cell_type": "code",
   "execution_count": 20,
   "id": "9f6f6a13",
   "metadata": {},
   "outputs": [
    {
     "data": {
      "text/html": [
       "<strong><em>Optimal</em> solution with objective value 0.100</strong><br><div>\n",
       "<style scoped>\n",
       "    .dataframe tbody tr th:only-of-type {\n",
       "        vertical-align: middle;\n",
       "    }\n",
       "\n",
       "    .dataframe tbody tr th {\n",
       "        vertical-align: top;\n",
       "    }\n",
       "\n",
       "    .dataframe thead th {\n",
       "        text-align: right;\n",
       "    }\n",
       "</style>\n",
       "<table border=\"1\" class=\"dataframe\">\n",
       "  <thead>\n",
       "    <tr style=\"text-align: right;\">\n",
       "      <th></th>\n",
       "      <th>fluxes</th>\n",
       "      <th>reduced_costs</th>\n",
       "    </tr>\n",
       "  </thead>\n",
       "  <tbody>\n",
       "    <tr>\n",
       "      <th>v0</th>\n",
       "      <td>1.0</td>\n",
       "      <td>2.0</td>\n",
       "    </tr>\n",
       "    <tr>\n",
       "      <th>v1</th>\n",
       "      <td>0.1</td>\n",
       "      <td>0.0</td>\n",
       "    </tr>\n",
       "    <tr>\n",
       "      <th>v2</th>\n",
       "      <td>0.1</td>\n",
       "      <td>0.0</td>\n",
       "    </tr>\n",
       "    <tr>\n",
       "      <th>v3</th>\n",
       "      <td>0.9</td>\n",
       "      <td>-2.0</td>\n",
       "    </tr>\n",
       "    <tr>\n",
       "      <th>v4</th>\n",
       "      <td>0.9</td>\n",
       "      <td>0.0</td>\n",
       "    </tr>\n",
       "    <tr>\n",
       "      <th>M</th>\n",
       "      <td>0.1</td>\n",
       "      <td>0.0</td>\n",
       "    </tr>\n",
       "  </tbody>\n",
       "</table>\n",
       "</div>"
      ],
      "text/plain": [
       "<Solution 0.100 at 0x1f65ae804f0>"
      ]
     },
     "execution_count": 20,
     "metadata": {},
     "output_type": "execute_result"
    }
   ],
   "source": [
    "result.optimize()"
   ]
  },
  {
   "cell_type": "code",
   "execution_count": 21,
   "id": "06f243d9",
   "metadata": {},
   "outputs": [
    {
     "data": {
      "text/html": [
       "<h3>Objective</h3><p>1.0 M = 0.09999999999999998</p><h4>Uptake</h4><table border=\"1\" class=\"dataframe\">\n",
       "  <thead>\n",
       "    <tr style=\"text-align: right;\">\n",
       "      <th>Metabolite</th>\n",
       "      <th>Reaction</th>\n",
       "      <th>Flux</th>\n",
       "      <th>C-Number</th>\n",
       "      <th>C-Flux</th>\n",
       "    </tr>\n",
       "  </thead>\n",
       "  <tbody>\n",
       "    <tr>\n",
       "      <td>A</td>\n",
       "      <td>v0</td>\n",
       "      <td>1</td>\n",
       "      <td>0</td>\n",
       "      <td>0.00%</td>\n",
       "    </tr>\n",
       "  </tbody>\n",
       "</table><h4>Secretion</h4><table border=\"1\" class=\"dataframe\">\n",
       "  <thead>\n",
       "    <tr style=\"text-align: right;\">\n",
       "      <th>Metabolite</th>\n",
       "      <th>Reaction</th>\n",
       "      <th>Flux</th>\n",
       "      <th>C-Number</th>\n",
       "      <th>C-Flux</th>\n",
       "    </tr>\n",
       "  </thead>\n",
       "  <tbody>\n",
       "    <tr>\n",
       "      <td>C</td>\n",
       "      <td>M</td>\n",
       "      <td>-0.1</td>\n",
       "      <td>0</td>\n",
       "      <td>0.00%</td>\n",
       "    </tr>\n",
       "    <tr>\n",
       "      <td>ATP</td>\n",
       "      <td>v4</td>\n",
       "      <td>-0.9</td>\n",
       "      <td>0</td>\n",
       "      <td>0.00%</td>\n",
       "    </tr>\n",
       "  </tbody>\n",
       "</table>"
      ],
      "text/plain": [
       "<cobra.summary.model_summary.ModelSummary at 0x1f65ae800a0>"
      ]
     },
     "execution_count": 21,
     "metadata": {},
     "output_type": "execute_result"
    }
   ],
   "source": [
    "result.summary()"
   ]
  },
  {
   "cell_type": "code",
   "execution_count": null,
   "id": "71ed8c2d",
   "metadata": {},
   "outputs": [],
   "source": []
  }
 ],
 "metadata": {
  "kernelspec": {
   "display_name": "Python 3 (ipykernel)",
   "language": "python",
   "name": "python3"
  },
  "language_info": {
   "codemirror_mode": {
    "name": "ipython",
    "version": 3
   },
   "file_extension": ".py",
   "mimetype": "text/x-python",
   "name": "python",
   "nbconvert_exporter": "python",
   "pygments_lexer": "ipython3",
   "version": "3.10.2"
  }
 },
 "nbformat": 4,
 "nbformat_minor": 5
}
